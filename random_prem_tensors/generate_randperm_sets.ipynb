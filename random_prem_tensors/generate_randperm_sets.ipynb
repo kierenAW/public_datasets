{
 "cells": [
  {
   "cell_type": "code",
   "execution_count": 1,
   "id": "71763dac-4da7-4828-8364-f085a1d00c85",
   "metadata": {
    "execution": {
     "iopub.execute_input": "2021-10-26T06:25:22.675311Z",
     "iopub.status.busy": "2021-10-26T06:25:22.675180Z",
     "iopub.status.idle": "2021-10-26T06:25:23.149907Z",
     "shell.execute_reply": "2021-10-26T06:25:23.149336Z",
     "shell.execute_reply.started": "2021-10-26T06:25:22.675274Z"
    }
   },
   "outputs": [],
   "source": [
    "import torch"
   ]
  },
  {
   "cell_type": "code",
   "execution_count": 2,
   "id": "251c68e6-e168-4579-9162-c1ee8f1bca2d",
   "metadata": {
    "execution": {
     "iopub.execute_input": "2021-10-26T06:25:23.150726Z",
     "iopub.status.busy": "2021-10-26T06:25:23.150612Z",
     "iopub.status.idle": "2021-10-26T06:25:23.155116Z",
     "shell.execute_reply": "2021-10-26T06:25:23.154618Z",
     "shell.execute_reply.started": "2021-10-26T06:25:23.150710Z"
    },
    "tags": []
   },
   "outputs": [],
   "source": [
    "for set_id in range(0,10):\n",
    "    torch.save(torch.randperm(1000),'randperm_1k_tensor_set_' + str(set_id) + '.pkl')"
   ]
  },
  {
   "cell_type": "code",
   "execution_count": 3,
   "id": "de9ecc75-9593-4f69-8cb7-cb3836c2c4f4",
   "metadata": {
    "execution": {
     "iopub.execute_input": "2021-10-26T06:25:23.155792Z",
     "iopub.status.busy": "2021-10-26T06:25:23.155683Z",
     "iopub.status.idle": "2021-10-26T06:25:23.170234Z",
     "shell.execute_reply": "2021-10-26T06:25:23.169714Z",
     "shell.execute_reply.started": "2021-10-26T06:25:23.155778Z"
    },
    "tags": []
   },
   "outputs": [
    {
     "name": "stdout",
     "output_type": "stream",
     "text": [
      "set_id: 0 torch.Size([1000])\n",
      "set_id: 1 torch.Size([1000])\n",
      "set_id: 2 torch.Size([1000])\n",
      "set_id: 3 torch.Size([1000])\n",
      "set_id: 4 torch.Size([1000])\n",
      "set_id: 5 torch.Size([1000])\n",
      "set_id: 6 torch.Size([1000])\n",
      "set_id: 7 torch.Size([1000])\n",
      "set_id: 8 torch.Size([1000])\n",
      "set_id: 9 torch.Size([1000])\n"
     ]
    }
   ],
   "source": [
    "for set_id in range(0,10):\n",
    "    print('set_id:', str(set_id), torch.load('randperm_1k_tensor_set_' + str(set_id) + '.pkl').shape)"
   ]
  },
  {
   "cell_type": "code",
   "execution_count": null,
   "id": "24e1daf4-5f4d-49f3-b16f-68bb400838c0",
   "metadata": {},
   "outputs": [],
   "source": []
  }
 ],
 "metadata": {
  "kernelspec": {
   "display_name": "Python 3",
   "language": "python",
   "name": "python3"
  },
  "language_info": {
   "codemirror_mode": {
    "name": "ipython",
    "version": 3
   },
   "file_extension": ".py",
   "mimetype": "text/x-python",
   "name": "python",
   "nbconvert_exporter": "python",
   "pygments_lexer": "ipython3",
   "version": "3.9.4"
  }
 },
 "nbformat": 4,
 "nbformat_minor": 5
}
